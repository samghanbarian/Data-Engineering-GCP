{
 "cells": [
  {
   "cell_type": "code",
   "execution_count": 1,
   "id": "dcf965b1",
   "metadata": {},
   "outputs": [
    {
     "ename": "ModuleNotFoundError",
     "evalue": "No module named 'pyspark'",
     "output_type": "error",
     "traceback": [
      "\u001b[1;31m---------------------------------------------------------------------------\u001b[0m",
      "\u001b[1;31mModuleNotFoundError\u001b[0m                       Traceback (most recent call last)",
      "Cell \u001b[1;32mIn[1], line 1\u001b[0m\n\u001b[1;32m----> 1\u001b[0m \u001b[38;5;28;01mimport\u001b[39;00m \u001b[38;5;21;01mpyspark\u001b[39;00m\n\u001b[0;32m      2\u001b[0m \u001b[38;5;28;01mfrom\u001b[39;00m \u001b[38;5;21;01mpyspark\u001b[39;00m\u001b[38;5;21;01m.\u001b[39;00m\u001b[38;5;21;01msql\u001b[39;00m \u001b[38;5;28;01mimport\u001b[39;00m SparkSession\n",
      "\u001b[1;31mModuleNotFoundError\u001b[0m: No module named 'pyspark'"
     ]
    }
   ],
   "source": [
    "import pyspark\n",
    "from pyspark.sql import SparkSession"
   ]
  },
  {
   "cell_type": "code",
   "execution_count": null,
   "id": "70873ead",
   "metadata": {},
   "outputs": [],
   "source": [
    "#create spark session\n",
    "spark = SparkSession.builder\\\n",
    ".master('loacal[*]')\\\n",
    ".appName('ny_taxi')\\\n",
    ".getOrCreate()"
   ]
  },
  {
   "cell_type": "code",
   "execution_count": null,
   "id": "3a801fc2",
   "metadata": {},
   "outputs": [],
   "source": [
    "#read grren and yellow dataset into daatframe\n",
    "df_green = spark.read.parquet('data/green/*/*')\n"
   ]
  },
  {
   "cell_type": "code",
   "execution_count": null,
   "id": "04b98231",
   "metadata": {},
   "outputs": [],
   "source": []
  },
  {
   "cell_type": "code",
   "execution_count": null,
   "id": "1c28ef86",
   "metadata": {},
   "outputs": [],
   "source": []
  },
  {
   "cell_type": "code",
   "execution_count": null,
   "id": "9fc83b06",
   "metadata": {},
   "outputs": [],
   "source": [
    "#to be able to run query on df we need to register it as a temporary table\n",
    "df_green.registerTempTable('trip_gr')"
   ]
  },
  {
   "cell_type": "code",
   "execution_count": null,
   "id": "84e892f4",
   "metadata": {},
   "outputs": [],
   "source": []
  },
  {
   "cell_type": "code",
   "execution_count": null,
   "id": "9e337a9e",
   "metadata": {},
   "outputs": [],
   "source": [
    "df_sql =spark.sql(\"\"\"\n",
    "\n",
    "SELECT \n",
    "    -- Reveneue grouping \n",
    "    PULocationID AS revenue_zone,\n",
    "    date_trunc('hour', pickup_datetime) AS revenue_hour, \n",
    "    \n",
    "    SUM(total_amount) AS amount,\n",
    "    COUNT(1) AS num_records\n",
    "FROM\n",
    "    trip_gr\n",
    "GROUP BY\n",
    "    1, 2\n",
    "\n",
    "\"\"\"\n",
    ")"
   ]
  },
  {
   "cell_type": "code",
   "execution_count": null,
   "id": "15912c24",
   "metadata": {},
   "outputs": [],
   "source": [
    "df_sql.show()"
   ]
  },
  {
   "cell_type": "code",
   "execution_count": null,
   "id": "94af04b8",
   "metadata": {},
   "outputs": [],
   "source": [
    "#write the resulta to parquet\n",
    "df_sql.write.repartition(14).parquet('data/reports/revenue/green')"
   ]
  },
  {
   "cell_type": "code",
   "execution_count": null,
   "id": "7e222d16",
   "metadata": {},
   "outputs": [],
   "source": [
    "#use coalesce to reduce the number of partitions\n",
    "df_sql.coalesce(|).write.parquet('data/reports',mode='overwrite')"
   ]
  },
  {
   "cell_type": "code",
   "execution_count": null,
   "id": "9b23ffc0",
   "metadata": {},
   "outputs": [],
   "source": [
    "df_yellow = spark.read.parquet('data/yellow/*/*')"
   ]
  },
  {
   "cell_type": "code",
   "execution_count": null,
   "id": "e3e9934a",
   "metadata": {},
   "outputs": [],
   "source": [
    "df_yellow.registerTempTable('trip_yl')"
   ]
  },
  {
   "cell_type": "code",
   "execution_count": null,
   "id": "19a3cd67",
   "metadata": {},
   "outputs": [],
   "source": [
    "df_sql =spark.sql(\"\"\"\n",
    "\n",
    "SELECT \n",
    "    -- Reveneue grouping \n",
    "    PULocationID AS revenue_zone,\n",
    "    date_trunc('hour', pickup_datetime) AS revenue_hour, \n",
    "    \n",
    "    SUM(total_amount) AS amount,\n",
    "    COUNT(1) AS num_records\n",
    "FROM\n",
    "    trip_yl\n",
    "GROUP BY\n",
    "    1, 2\n",
    "\n",
    "\"\"\"\n",
    ")"
   ]
  },
  {
   "cell_type": "code",
   "execution_count": null,
   "id": "fbd6c2e6",
   "metadata": {},
   "outputs": [],
   "source": [
    "df_sql.write.repartition(14).parquet('data/reports/revenue/yellow')"
   ]
  },
  {
   "cell_type": "code",
   "execution_count": null,
   "id": "3461eb03",
   "metadata": {},
   "outputs": [],
   "source": []
  },
  {
   "cell_type": "code",
   "execution_count": null,
   "id": "96fea48f",
   "metadata": {},
   "outputs": [],
   "source": [
    "#join the two dataframe\n",
    "df_rev_gr = spark.read.parquet('data/reports/revenue/green')\n",
    "df_rev_yl =spark.read.parquet('data/reports/revenue/yellow')"
   ]
  },
  {
   "cell_type": "code",
   "execution_count": null,
   "id": "77b498de",
   "metadata": {},
   "outputs": [],
   "source": [
    "dfjoin = dfe_rev_gr.join(def_rev_yl,on=['revenue_zone','hour'],how='outer')"
   ]
  },
  {
   "cell_type": "code",
   "execution_count": null,
   "id": "a3889d22",
   "metadata": {},
   "outputs": [],
   "source": [
    "dfjoin.write.parquet('data/reports/revenue/')"
   ]
  },
  {
   "cell_type": "code",
   "execution_count": null,
   "id": "a487ee9e",
   "metadata": {},
   "outputs": [],
   "source": []
  },
  {
   "cell_type": "code",
   "execution_count": null,
   "id": "7b9924ce",
   "metadata": {},
   "outputs": [],
   "source": []
  }
 ],
 "metadata": {
  "kernelspec": {
   "display_name": "Python 3 (ipykernel)",
   "language": "python",
   "name": "python3"
  },
  "language_info": {
   "codemirror_mode": {
    "name": "ipython",
    "version": 3
   },
   "file_extension": ".py",
   "mimetype": "text/x-python",
   "name": "python",
   "nbconvert_exporter": "python",
   "pygments_lexer": "ipython3",
   "version": "3.10.9"
  }
 },
 "nbformat": 4,
 "nbformat_minor": 5
}
