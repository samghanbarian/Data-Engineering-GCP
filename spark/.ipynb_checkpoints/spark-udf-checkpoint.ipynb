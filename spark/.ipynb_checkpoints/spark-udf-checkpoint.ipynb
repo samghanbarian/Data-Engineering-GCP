{
 "cells": [
  {
   "cell_type": "code",
   "execution_count": 5,
   "id": "b790f660",
   "metadata": {},
   "outputs": [],
   "source": [
    "from pyspark.sql import SparkSession\n",
    "from pyspark.sql import functions as F"
   ]
  },
  {
   "cell_type": "code",
   "execution_count": 15,
   "id": "0e155bfa",
   "metadata": {},
   "outputs": [],
   "source": [
    "from pyspark.sql import types"
   ]
  },
  {
   "cell_type": "code",
   "execution_count": 6,
   "id": "41e2e663",
   "metadata": {},
   "outputs": [
    {
     "name": "stderr",
     "output_type": "stream",
     "text": [
      "Setting default log level to \"WARN\".\n",
      "To adjust logging level use sc.setLogLevel(newLevel). For SparkR, use setLogLevel(newLevel).\n"
     ]
    },
    {
     "name": "stdout",
     "output_type": "stream",
     "text": [
      "23/05/12 14:28:15 WARN NativeCodeLoader: Unable to load native-hadoop library for your platform... using builtin-java classes where applicable\n",
      "23/05/12 14:28:16 WARN Utils: Service 'SparkUI' could not bind on port 4040. Attempting port 4041.\n"
     ]
    }
   ],
   "source": [
    "#define spark session\n",
    "spark  = SparkSession.builder\\\n",
    ".master('local[*]')\\\n",
    ".appName('ny_taxi')\\\n",
    ".getOrCreate()"
   ]
  },
  {
   "cell_type": "code",
   "execution_count": 7,
   "id": "c40d3209",
   "metadata": {},
   "outputs": [
    {
     "name": "stderr",
     "output_type": "stream",
     "text": [
      "                                                                                \r"
     ]
    }
   ],
   "source": [
    "#read parquet file\n",
    "df = spark.read.parquet('fhvhv/2022/01')"
   ]
  },
  {
   "cell_type": "code",
   "execution_count": 8,
   "id": "047e600a",
   "metadata": {},
   "outputs": [
    {
     "name": "stdout",
     "output_type": "stream",
     "text": [
      "root\n",
      " |-- hvfhs_license_num: string (nullable = true)\n",
      " |-- dispatching_base_num: string (nullable = true)\n",
      " |-- originating_base_num: string (nullable = true)\n",
      " |-- request_datetime: timestamp (nullable = true)\n",
      " |-- on_scene_datetime: timestamp (nullable = true)\n",
      " |-- pickup_datetime: timestamp (nullable = true)\n",
      " |-- dropoff_datetime: timestamp (nullable = true)\n",
      " |-- PULocationID: long (nullable = true)\n",
      " |-- DOLocationID: long (nullable = true)\n",
      " |-- trip_miles: double (nullable = true)\n",
      " |-- trip_time: long (nullable = true)\n",
      " |-- base_passenger_fare: double (nullable = true)\n",
      " |-- tolls: double (nullable = true)\n",
      " |-- bcf: double (nullable = true)\n",
      " |-- sales_tax: double (nullable = true)\n",
      " |-- congestion_surcharge: double (nullable = true)\n",
      " |-- airport_fee: double (nullable = true)\n",
      " |-- tips: double (nullable = true)\n",
      " |-- driver_pay: double (nullable = true)\n",
      " |-- shared_request_flag: string (nullable = true)\n",
      " |-- shared_match_flag: string (nullable = true)\n",
      " |-- access_a_ride_flag: string (nullable = true)\n",
      " |-- wav_request_flag: string (nullable = true)\n",
      " |-- wav_match_flag: string (nullable = true)\n",
      "\n"
     ]
    }
   ],
   "source": [
    "df.printSchema()\n"
   ]
  },
  {
   "cell_type": "code",
   "execution_count": 11,
   "id": "ec565851",
   "metadata": {},
   "outputs": [
    {
     "name": "stdout",
     "output_type": "stream",
     "text": [
      "+-----------+------------+------------+------------+\n",
      "|pickup_date|dropoff_date|PULocationID|DOLocationID|\n",
      "+-----------+------------+------------+------------+\n",
      "| 2022-01-13|  2022-01-13|         162|         168|\n",
      "| 2022-01-06|  2022-01-06|         225|          17|\n",
      "| 2022-01-02|  2022-01-02|          90|         100|\n",
      "| 2022-01-08|  2022-01-08|         158|         233|\n",
      "| 2022-01-30|  2022-01-30|         148|         249|\n",
      "| 2022-01-31|  2022-01-31|          52|         255|\n",
      "| 2022-01-31|  2022-01-31|         182|         242|\n",
      "| 2022-01-16|  2022-01-16|         231|         249|\n",
      "| 2022-01-01|  2022-01-01|         230|         164|\n",
      "| 2022-01-05|  2022-01-05|          79|         162|\n",
      "+-----------+------------+------------+------------+\n",
      "only showing top 10 rows\n",
      "\n"
     ]
    }
   ],
   "source": [
    "#add new cols\n",
    "df.withColumn('pickup_date',F.to_date(df.pickup_datetime))\\\n",
    ".withColumn('dropoff_date',F.to_date(df.dropoff_datetime))\\\n",
    ".select('pickup_date', 'dropoff_date', 'PULocationID', 'DOLocationID').show(10)"
   ]
  },
  {
   "cell_type": "code",
   "execution_count": 14,
   "id": "d0d2686f",
   "metadata": {},
   "outputs": [],
   "source": [
    "#define new function\n",
    "def new_func(num):\n",
    "    num = int(num[1:])\n",
    "    if num % 3 == 0:\n",
    "        return f\"s/{num:03x}\"\n",
    "    else:\n",
    "        return f\"e/{num:03x}\"\n",
    "        "
   ]
  },
  {
   "cell_type": "code",
   "execution_count": 20,
   "id": "a8987a3f",
   "metadata": {},
   "outputs": [
    {
     "data": {
      "text/plain": [
       "'e/d4c'"
      ]
     },
     "execution_count": 20,
     "metadata": {},
     "output_type": "execute_result"
    }
   ],
   "source": [
    "new_func('B03404')"
   ]
  },
  {
   "cell_type": "code",
   "execution_count": 22,
   "id": "ade09fb5",
   "metadata": {},
   "outputs": [],
   "source": [
    "#turn to udf\n",
    "new_func_udf = F.udf(new_func , returnType= types.StringType())"
   ]
  },
  {
   "cell_type": "code",
   "execution_count": 24,
   "id": "b719aedb",
   "metadata": {},
   "outputs": [
    {
     "data": {
      "text/plain": [
       "DataFrame[pickup_date: date, PULocationID: bigint, DOLocationID: bigint, origin_id: string]"
      ]
     },
     "execution_count": 24,
     "metadata": {},
     "output_type": "execute_result"
    }
   ],
   "source": [
    "df\\\n",
    ".withColumn('pickup_date',F.to_date(df.pickup_datetime))\\\n",
    ".withColumn('origin_id', new_func_udf(df.originating_base_num))\\\n",
    ".select('pickup_date', 'PULocationID', 'DOLocationID','origin_id')"
   ]
  },
  {
   "cell_type": "code",
   "execution_count": null,
   "id": "ad53b5e3",
   "metadata": {},
   "outputs": [],
   "source": []
  }
 ],
 "metadata": {
  "kernelspec": {
   "display_name": "Python 3 (ipykernel)",
   "language": "python",
   "name": "python3"
  },
  "language_info": {
   "codemirror_mode": {
    "name": "ipython",
    "version": 3
   },
   "file_extension": ".py",
   "mimetype": "text/x-python",
   "name": "python",
   "nbconvert_exporter": "python",
   "pygments_lexer": "ipython3",
   "version": "3.10.9"
  }
 },
 "nbformat": 4,
 "nbformat_minor": 5
}
