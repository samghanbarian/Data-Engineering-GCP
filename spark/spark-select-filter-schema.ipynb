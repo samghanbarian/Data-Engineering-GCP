{
 "cells": [
  {
   "cell_type": "code",
   "execution_count": 1,
   "id": "b19f7c71",
   "metadata": {},
   "outputs": [],
   "source": [
    "import pyspark"
   ]
  },
  {
   "cell_type": "code",
   "execution_count": 2,
   "id": "98f2494a",
   "metadata": {},
   "outputs": [
    {
     "data": {
      "text/plain": [
       "'/home/sam/spark/spark-3.3.2-bin-hadoop3/python/pyspark/__init__.py'"
      ]
     },
     "execution_count": 2,
     "metadata": {},
     "output_type": "execute_result"
    }
   ],
   "source": [
    "pyspark.__file__"
   ]
  },
  {
   "cell_type": "code",
   "execution_count": 4,
   "id": "f54796fc",
   "metadata": {},
   "outputs": [],
   "source": [
    "from pyspark.sql import SparkSession"
   ]
  },
  {
   "cell_type": "code",
   "execution_count": 5,
   "id": "383e17b4",
   "metadata": {},
   "outputs": [
    {
     "name": "stderr",
     "output_type": "stream",
     "text": [
      "Setting default log level to \"WARN\".\n",
      "To adjust logging level use sc.setLogLevel(newLevel). For SparkR, use setLogLevel(newLevel).\n"
     ]
    },
    {
     "name": "stdout",
     "output_type": "stream",
     "text": [
      "23/05/12 08:36:34 WARN NativeCodeLoader: Unable to load native-hadoop library for your platform... using builtin-java classes where applicable\n"
     ]
    }
   ],
   "source": [
    "spark  = SparkSession.builder\\\n",
    ".master('local[*]')\\\n",
    ".appName('ny_taxi')\\\n",
    ".getOrCreate()"
   ]
  },
  {
   "cell_type": "code",
   "execution_count": 6,
   "id": "93ff38a2",
   "metadata": {},
   "outputs": [
    {
     "name": "stdout",
     "output_type": "stream",
     "text": [
      "--2023-05-12 08:37:06--  https://d37ci6vzurychx.cloudfront.net/misc/taxi+_zone_lookup.csv\n",
      "Resolving d37ci6vzurychx.cloudfront.net (d37ci6vzurychx.cloudfront.net)... 18.155.128.222, 18.155.128.46, 18.155.128.6, ...\n",
      "Connecting to d37ci6vzurychx.cloudfront.net (d37ci6vzurychx.cloudfront.net)|18.155.128.222|:443... connected.\n",
      "HTTP request sent, awaiting response... 200 OK\n",
      "Length: 12322 (12K) [text/csv]\n",
      "Saving to: ‘taxi+_zone_lookup.csv’\n",
      "\n",
      "taxi+_zone_lookup.c 100%[===================>]  12.03K  --.-KB/s    in 0s      \n",
      "\n",
      "2023-05-12 08:37:07 (66.6 MB/s) - ‘taxi+_zone_lookup.csv’ saved [12322/12322]\n",
      "\n"
     ]
    }
   ],
   "source": [
    "!wget https://d37ci6vzurychx.cloudfront.net/misc/taxi+_zone_lookup.csv"
   ]
  },
  {
   "cell_type": "code",
   "execution_count": 7,
   "id": "9bae9763",
   "metadata": {},
   "outputs": [
    {
     "name": "stdout",
     "output_type": "stream",
     "text": [
      "\r\n",
      "\r\n",
      "\r\n",
      "\r\n",
      "\r\n",
      "\r\n",
      "\r\n",
      "\r\n",
      "\r\n",
      "\r\n"
     ]
    }
   ],
   "source": [
    "!head taxi+_zone_lookup.csv"
   ]
  },
  {
   "cell_type": "code",
   "execution_count": 10,
   "id": "b44f2919",
   "metadata": {},
   "outputs": [],
   "source": [
    "df = spark.read\\\n",
    ".option(\"header\",\"true\")\\ #to indicate to consider the header\n",
    ".csv('taxi+_zone_lookup.csv')"
   ]
  },
  {
   "cell_type": "code",
   "execution_count": 11,
   "id": "0010a21d",
   "metadata": {},
   "outputs": [
    {
     "name": "stdout",
     "output_type": "stream",
     "text": [
      "+----------+-------------+--------------------+------------+\n",
      "|LocationID|      Borough|                Zone|service_zone|\n",
      "+----------+-------------+--------------------+------------+\n",
      "|         1|          EWR|      Newark Airport|         EWR|\n",
      "|         2|       Queens|         Jamaica Bay|   Boro Zone|\n",
      "|         3|        Bronx|Allerton/Pelham G...|   Boro Zone|\n",
      "|         4|    Manhattan|       Alphabet City| Yellow Zone|\n",
      "|         5|Staten Island|       Arden Heights|   Boro Zone|\n",
      "|         6|Staten Island|Arrochar/Fort Wad...|   Boro Zone|\n",
      "|         7|       Queens|             Astoria|   Boro Zone|\n",
      "|         8|       Queens|        Astoria Park|   Boro Zone|\n",
      "|         9|       Queens|          Auburndale|   Boro Zone|\n",
      "|        10|       Queens|        Baisley Park|   Boro Zone|\n",
      "|        11|     Brooklyn|          Bath Beach|   Boro Zone|\n",
      "|        12|    Manhattan|        Battery Park| Yellow Zone|\n",
      "|        13|    Manhattan|   Battery Park City| Yellow Zone|\n",
      "|        14|     Brooklyn|           Bay Ridge|   Boro Zone|\n",
      "|        15|       Queens|Bay Terrace/Fort ...|   Boro Zone|\n",
      "|        16|       Queens|             Bayside|   Boro Zone|\n",
      "|        17|     Brooklyn|             Bedford|   Boro Zone|\n",
      "|        18|        Bronx|        Bedford Park|   Boro Zone|\n",
      "|        19|       Queens|           Bellerose|   Boro Zone|\n",
      "|        20|        Bronx|             Belmont|   Boro Zone|\n",
      "+----------+-------------+--------------------+------------+\n",
      "only showing top 20 rows\n",
      "\n"
     ]
    }
   ],
   "source": [
    "df.show()"
   ]
  },
  {
   "cell_type": "code",
   "execution_count": 12,
   "id": "95327c89",
   "metadata": {},
   "outputs": [
    {
     "name": "stdout",
     "output_type": "stream",
     "text": [
      "--2023-05-12 09:09:30--  https://d37ci6vzurychx.cloudfront.net/trip-data/fhvhv_tripdata_2022-01.parquet\n",
      "Resolving d37ci6vzurychx.cloudfront.net (d37ci6vzurychx.cloudfront.net)... 18.155.128.46, 18.155.128.6, 18.155.128.187, ...\n",
      "Connecting to d37ci6vzurychx.cloudfront.net (d37ci6vzurychx.cloudfront.net)|18.155.128.46|:443... connected.\n",
      "HTTP request sent, awaiting response... 200 OK\n",
      "Length: 374619188 (357M) [application/x-www-form-urlencoded]\n",
      "Saving to: ‘fhvhv_tripdata_2022-01.parquet’\n",
      "\n",
      "fhvhv_tripdata_2022 100%[===================>] 357.26M   230MB/s    in 1.6s    \n",
      "\n",
      "2023-05-12 09:09:31 (230 MB/s) - ‘fhvhv_tripdata_2022-01.parquet’ saved [374619188/374619188]\n",
      "\n"
     ]
    }
   ],
   "source": [
    "!wget https://d37ci6vzurychx.cloudfront.net/trip-data/fhvhv_tripdata_2022-01.parquet"
   ]
  },
  {
   "cell_type": "code",
   "execution_count": 17,
   "id": "13ed8a7e",
   "metadata": {},
   "outputs": [],
   "source": [
    "df = spark.read\\\n",
    ".option(\"header\",\"true\")\\\n",
    ".parquet('fhvhv_tripdata_2022-01.parquet')"
   ]
  },
  {
   "cell_type": "code",
   "execution_count": 18,
   "id": "a01a8300",
   "metadata": {},
   "outputs": [
    {
     "name": "stderr",
     "output_type": "stream",
     "text": [
      "[Stage 8:=======================================>                   (2 + 1) / 3]\r"
     ]
    },
    {
     "name": "stdout",
     "output_type": "stream",
     "text": [
      "+-----------------+--------------------+--------------------+-------------------+-------------------+-------------------+-------------------+------------+------------+----------+---------+-------------------+-----+----+---------+--------------------+-----------+----+----------+-------------------+-----------------+------------------+----------------+--------------+\n",
      "|hvfhs_license_num|dispatching_base_num|originating_base_num|   request_datetime|  on_scene_datetime|    pickup_datetime|   dropoff_datetime|PULocationID|DOLocationID|trip_miles|trip_time|base_passenger_fare|tolls| bcf|sales_tax|congestion_surcharge|airport_fee|tips|driver_pay|shared_request_flag|shared_match_flag|access_a_ride_flag|wav_request_flag|wav_match_flag|\n",
      "+-----------------+--------------------+--------------------+-------------------+-------------------+-------------------+-------------------+------------+------------+----------+---------+-------------------+-----+----+---------+--------------------+-----------+----+----------+-------------------+-----------------+------------------+----------------+--------------+\n",
      "|           HV0003|              B03404|              B03404|2022-01-01 00:05:31|2022-01-01 00:05:40|2022-01-01 00:07:24|2022-01-01 00:18:28|         170|         161|      1.18|      664|               24.9|  0.0|0.75|     2.21|                2.75|        0.0| 0.0|     23.03|                  N|                N|                  |               N|             N|\n",
      "|           HV0003|              B03404|              B03404|2022-01-01 00:19:27|2022-01-01 00:22:08|2022-01-01 00:22:32|2022-01-01 00:30:12|         237|         161|      0.82|      460|              11.97|  0.0|0.36|     1.06|                2.75|        0.0| 0.0|     12.32|                  N|                N|                  |               N|             N|\n",
      "|           HV0003|              B03404|              B03404|2022-01-01 00:43:53|2022-01-01 00:57:37|2022-01-01 00:57:37|2022-01-01 01:07:32|         237|         161|      1.18|      595|              29.82|  0.0|0.89|     2.65|                2.75|        0.0| 0.0|      23.3|                  N|                N|                  |               N|             N|\n",
      "|           HV0003|              B03404|              B03404|2022-01-01 00:15:36|2022-01-01 00:17:08|2022-01-01 00:18:02|2022-01-01 00:23:05|         262|         229|      1.65|      303|               7.91|  0.0|0.24|      0.7|                2.75|        0.0| 0.0|       6.3|                  N|                N|                  |               N|             N|\n",
      "|           HV0003|              B03404|              B03404|2022-01-01 00:25:45|2022-01-01 00:26:01|2022-01-01 00:28:01|2022-01-01 00:35:42|         229|         141|      1.65|      461|               9.44|  0.0|0.28|     0.84|                2.75|        0.0| 0.0|      7.44|                  N|                N|                  |               N|             N|\n",
      "|           HV0003|              B03404|              B03404|2022-01-01 00:34:44|2022-01-01 00:36:52|2022-01-01 00:38:50|2022-01-01 00:51:32|         263|          79|      4.51|      762|              17.67|  0.0|0.53|     1.57|                2.75|        0.0| 0.0|     12.25|                  N|                N|                  |               N|             N|\n",
      "|           HV0003|              B03404|              B03404|2022-01-01 00:47:51|2022-01-01 00:52:00|2022-01-01 00:53:25|2022-01-01 01:08:56|         113|         140|      3.68|      931|              16.68|  0.0| 0.5|     1.48|                2.75|        0.0| 0.0|     12.75|                  N|                N|                  |               N|             N|\n",
      "|           HV0003|              B03404|              B03404|2022-01-01 00:06:21|2022-01-01 00:06:58|2022-01-01 00:08:58|2022-01-01 00:23:01|         151|          75|      2.77|      843|              14.41|  0.0|0.43|     1.28|                 0.0|        0.0| 4.0|     11.47|                  N|                N|                  |               N|             N|\n",
      "|           HV0003|              B03404|              B03404|2022-01-01 00:27:54|2022-01-01 00:30:26|2022-01-01 00:32:25|2022-01-01 00:44:15|         263|         229|      2.04|      710|              10.64|  0.0|0.32|     0.94|                2.75|        0.0| 0.0|      9.55|                  N|                N|                  |               N|             N|\n",
      "|           HV0003|              B03404|              B03404|2022-01-01 00:44:59|2022-01-01 00:48:23|2022-01-01 00:50:23|2022-01-01 01:15:30|         237|         169|      8.79|     1507|             107.56|  0.0|0.83|     2.45|                2.75|        0.0| 0.0|     23.67|                  N|                N|                  |               N|             N|\n",
      "|           HV0003|              B03404|              B03404|2022-01-01 00:13:49|2022-01-01 00:16:15|2022-01-01 00:17:02|2022-01-01 00:40:09|         261|         223|     11.29|     1387|               34.9|  0.0|1.05|      3.1|                2.75|        0.0| 0.0|     25.17|                  N|                N|                  |               N|             N|\n",
      "|           HV0003|              B03404|              B03404|2022-01-01 00:39:10|2022-01-01 00:42:59|2022-01-01 00:43:20|2022-01-01 00:47:31|         223|         223|      0.87|      251|               7.91|  0.0|0.24|      0.7|                 0.0|        0.0| 0.0|      6.51|                  N|                N|                  |               N|             N|\n",
      "|           HV0003|              B03404|              B03404|2022-01-01 00:45:50|2022-01-01 00:52:15|2022-01-01 00:52:29|2022-01-01 01:01:48|         223|           7|      1.89|      559|               9.71|  0.0|0.29|     0.86|                 0.0|        0.0| 0.0|      7.89|                  N|                N|                  |               N|             N|\n",
      "|           HV0005|              B03406|                null|2022-01-01 00:36:54|               null|2022-01-01 00:45:34|2022-01-01 00:54:11|          88|         148|     3.585|      810|              27.02|  0.0|0.81|      2.4|                2.75|        0.0| 0.0|     21.08|                  N|                N|                 N|               N|             N|\n",
      "|           HV0003|              B03404|              B03404|2022-01-01 00:07:13|2022-01-01 00:12:03|2022-01-01 00:12:03|2022-01-01 00:35:07|         246|         243|       9.2|     1384|              30.37|  0.0|0.91|      2.7|                2.75|        0.0| 0.0|     22.69|                  N|                N|                  |               N|             N|\n",
      "|           HV0003|              B03404|              B03404|2022-01-01 00:53:32|2022-01-01 00:58:14|2022-01-01 00:58:26|2022-01-01 01:07:23|         243|         127|      1.88|      537|              15.02|  0.0|0.45|     1.33|                 0.0|        0.0| 2.0|     10.02|                  N|                N|                  |               N|             N|\n",
      "|           HV0005|              B03406|                null|2022-01-01 00:28:07|               null|2022-01-01 00:34:59|2022-01-01 00:50:15|         239|         170|     2.699|      916|              20.47|  0.0|0.61|     1.82|                2.75|        0.0| 0.0|     10.66|                  N|                N|                 N|               N|             N|\n",
      "|           HV0005|              B03406|                null|2022-01-01 00:45:44|               null|2022-01-01 00:58:09|2022-01-01 01:28:23|         170|         265|     8.037|     1904|              24.63| 20.0|1.34|      0.0|                 0.0|        0.0| 0.0|     26.63|                  N|                N|                 N|               N|             N|\n",
      "|           HV0003|              B03404|              B03404|2022-01-01 00:21:54|2022-01-01 00:26:15|2022-01-01 00:28:15|2022-01-01 00:38:52|         223|         179|      1.69|      637|               9.81|  0.0|0.29|     0.87|                 0.0|        0.0| 0.0|      9.55|                  N|                N|                  |               N|             N|\n",
      "|           HV0003|              B03404|              B03404|2022-01-01 00:35:08|2022-01-01 00:43:55|2022-01-01 00:45:55|2022-01-01 00:53:47|         179|           7|      0.87|      472|              10.53|  0.0|0.32|     0.93|                 0.0|        0.0| 0.0|      9.22|                  N|                N|                  |               N|             N|\n",
      "+-----------------+--------------------+--------------------+-------------------+-------------------+-------------------+-------------------+------------+------------+----------+---------+-------------------+-----+----+---------+--------------------+-----------+----+----------+-------------------+-----------------+------------------+----------------+--------------+\n",
      "only showing top 20 rows\n",
      "\n"
     ]
    },
    {
     "name": "stderr",
     "output_type": "stream",
     "text": [
      "                                                                                \r"
     ]
    }
   ],
   "source": [
    "df.show()"
   ]
  },
  {
   "cell_type": "code",
   "execution_count": 19,
   "id": "8246889b",
   "metadata": {},
   "outputs": [
    {
     "data": {
      "text/plain": [
       "StructType([StructField('hvfhs_license_num', StringType(), True), StructField('dispatching_base_num', StringType(), True), StructField('originating_base_num', StringType(), True), StructField('request_datetime', TimestampType(), True), StructField('on_scene_datetime', TimestampType(), True), StructField('pickup_datetime', TimestampType(), True), StructField('dropoff_datetime', TimestampType(), True), StructField('PULocationID', LongType(), True), StructField('DOLocationID', LongType(), True), StructField('trip_miles', DoubleType(), True), StructField('trip_time', LongType(), True), StructField('base_passenger_fare', DoubleType(), True), StructField('tolls', DoubleType(), True), StructField('bcf', DoubleType(), True), StructField('sales_tax', DoubleType(), True), StructField('congestion_surcharge', DoubleType(), True), StructField('airport_fee', DoubleType(), True), StructField('tips', DoubleType(), True), StructField('driver_pay', DoubleType(), True), StructField('shared_request_flag', StringType(), True), StructField('shared_match_flag', StringType(), True), StructField('access_a_ride_flag', StringType(), True), StructField('wav_request_flag', StringType(), True), StructField('wav_match_flag', StringType(), True)])"
      ]
     },
     "execution_count": 19,
     "metadata": {},
     "output_type": "execute_result"
    }
   ],
   "source": [
    "df.schema"
   ]
  },
  {
   "cell_type": "code",
   "execution_count": 21,
   "id": "d05b94a7",
   "metadata": {},
   "outputs": [],
   "source": [
    "from pyspark.sql import types"
   ]
  },
  {
   "cell_type": "code",
   "execution_count": 58,
   "id": "ca584e36",
   "metadata": {},
   "outputs": [],
   "source": [
    "schema =types.StructType([\n",
    "    types.StructField('hvfhs_license_num', types.StringType(), True),\n",
    "    types.StructField('dispatching_base_num', types.StringType(), True),\n",
    "    types.StructField('originating_base_num', types.StringType(), True),\n",
    "    types.StructField('request_datetime',types.TimestampType(), True),\n",
    "    types.StructField('on_scene_datetime', types.TimestampType(), True),\n",
    "    types.StructField('pickup_datetime', types.TimestampType(), True),\n",
    "    types.StructField('dropoff_datetime', types.TimestampType(), True),\n",
    "    types.StructField('PULocationID', types.LongType(), True),\n",
    "    types.StructField('DOLocationID', types.LongType(), True),\n",
    "    types.StructField('trip_miles', types.DoubleType(), True),\n",
    "    types.StructField('trip_time', types.LongType(), True),\n",
    "    types.StructField('base_passenger_fare', types.DoubleType(), True),\n",
    "    types.StructField('tolls', types.DoubleType(), True),\n",
    "    types.StructField('bcf', types.DoubleType(), True),\n",
    "    types.StructField('sales_tax', types.DoubleType(), True),\n",
    "    types.StructField('congestion_surcharge', types.DoubleType(), True),\n",
    "    types.StructField('airport_fee', types.DoubleType(), True),\n",
    "    types.StructField('tips', types.DoubleType(), True),\n",
    "    types.StructField('driver_pay', types.DoubleType(), True),\n",
    "    types.StructField('shared_request_flag', types.StringType(), True),\n",
    "    types.StructField('shared_match_flag', types.StringType(), True),\n",
    "    types.StructField('access_a_ride_flag', types.StringType(), True),\n",
    "    types.StructField('wav_request_flag', types.StringType(), True),\n",
    "    types.StructField('wav_match_flag', types.StringType(), True)\n",
    "])"
   ]
  },
  {
   "cell_type": "code",
   "execution_count": 59,
   "id": "a2f68563",
   "metadata": {},
   "outputs": [],
   "source": [
    "df = spark.read\\\n",
    ".schema(schema)\\\n",
    ".option(\"header\",\"true\")\\\n",
    ".parquet('fhvhv_tripdata_2022-01.parquet')"
   ]
  },
  {
   "cell_type": "code",
   "execution_count": null,
   "id": "65878710",
   "metadata": {},
   "outputs": [],
   "source": []
  },
  {
   "cell_type": "code",
   "execution_count": 60,
   "id": "5ce8f8c5",
   "metadata": {},
   "outputs": [],
   "source": [
    "df = df.repartition(24)"
   ]
  },
  {
   "cell_type": "code",
   "execution_count": 61,
   "id": "48f52c2b",
   "metadata": {},
   "outputs": [
    {
     "name": "stderr",
     "output_type": "stream",
     "text": [
      "                                                                                \r"
     ]
    }
   ],
   "source": [
    "df.write.parquet('fhvhv/2022/01')"
   ]
  },
  {
   "cell_type": "code",
   "execution_count": 63,
   "id": "6eced5cb",
   "metadata": {},
   "outputs": [
    {
     "name": "stdout",
     "output_type": "stream",
     "text": [
      "total 4.0K\r\n",
      "drwxr-xr-x 3 sam sam 4.0K May 12 14:14 2022\r\n"
     ]
    }
   ],
   "source": [
    "!ls -lh fhvhv"
   ]
  },
  {
   "cell_type": "code",
   "execution_count": 64,
   "id": "b96b2e7d",
   "metadata": {},
   "outputs": [
    {
     "name": "stdout",
     "output_type": "stream",
     "text": [
      "root\n",
      " |-- hvfhs_license_num: string (nullable = true)\n",
      " |-- dispatching_base_num: string (nullable = true)\n",
      " |-- originating_base_num: string (nullable = true)\n",
      " |-- request_datetime: timestamp (nullable = true)\n",
      " |-- on_scene_datetime: timestamp (nullable = true)\n",
      " |-- pickup_datetime: timestamp (nullable = true)\n",
      " |-- dropoff_datetime: timestamp (nullable = true)\n",
      " |-- PULocationID: long (nullable = true)\n",
      " |-- DOLocationID: long (nullable = true)\n",
      " |-- trip_miles: double (nullable = true)\n",
      " |-- trip_time: long (nullable = true)\n",
      " |-- base_passenger_fare: double (nullable = true)\n",
      " |-- tolls: double (nullable = true)\n",
      " |-- bcf: double (nullable = true)\n",
      " |-- sales_tax: double (nullable = true)\n",
      " |-- congestion_surcharge: double (nullable = true)\n",
      " |-- airport_fee: double (nullable = true)\n",
      " |-- tips: double (nullable = true)\n",
      " |-- driver_pay: double (nullable = true)\n",
      " |-- shared_request_flag: string (nullable = true)\n",
      " |-- shared_match_flag: string (nullable = true)\n",
      " |-- access_a_ride_flag: string (nullable = true)\n",
      " |-- wav_request_flag: string (nullable = true)\n",
      " |-- wav_match_flag: string (nullable = true)\n",
      "\n"
     ]
    }
   ],
   "source": [
    "df.printSchema()"
   ]
  },
  {
   "cell_type": "code",
   "execution_count": 65,
   "id": "2443a6a1",
   "metadata": {},
   "outputs": [],
   "source": [
    "#lazy (transformation)\n",
    "sel = df.select('pickup_datetime', 'dropoff_datetime', 'PULocationID', 'DOLocationID').filter(df.hvfhs_license_num =='HV0003')"
   ]
  },
  {
   "cell_type": "code",
   "execution_count": 66,
   "id": "86a7e8b8",
   "metadata": {},
   "outputs": [
    {
     "name": "stderr",
     "output_type": "stream",
     "text": [
      "[Stage 26:===========================================>              (3 + 1) / 4]\r"
     ]
    },
    {
     "name": "stdout",
     "output_type": "stream",
     "text": [
      "+-------------------+-------------------+------------+------------+\n",
      "|    pickup_datetime|   dropoff_datetime|PULocationID|DOLocationID|\n",
      "+-------------------+-------------------+------------+------------+\n",
      "|2022-01-03 17:20:34|2022-01-03 17:45:35|         138|         186|\n",
      "|2022-01-18 15:11:48|2022-01-18 15:19:59|          66|         231|\n",
      "|2022-01-24 19:34:15|2022-01-24 19:45:11|         162|          90|\n",
      "|2022-01-30 22:52:14|2022-01-30 23:05:20|          78|          69|\n",
      "|2022-01-23 13:31:28|2022-01-23 14:02:23|         138|         265|\n",
      "|2022-01-27 18:04:32|2022-01-27 18:33:36|          48|         261|\n",
      "|2022-01-09 00:04:25|2022-01-09 00:25:30|         144|         145|\n",
      "|2022-01-16 18:36:00|2022-01-16 18:48:20|         148|          65|\n",
      "|2022-01-10 22:35:25|2022-01-10 23:03:31|         186|          89|\n",
      "|2022-01-25 17:47:44|2022-01-25 18:20:41|         129|         134|\n",
      "|2022-01-04 23:18:30|2022-01-04 23:20:46|         233|         229|\n",
      "|2022-01-14 18:08:54|2022-01-14 18:19:04|          81|         265|\n",
      "|2022-01-30 09:11:13|2022-01-30 09:25:58|         228|          26|\n",
      "|2022-01-11 08:07:38|2022-01-11 08:14:53|         129|         129|\n",
      "|2022-01-23 23:18:53|2022-01-23 23:30:07|          39|          35|\n",
      "|2022-01-28 13:14:49|2022-01-28 13:27:12|         231|          90|\n",
      "|2022-01-06 15:23:18|2022-01-06 15:42:56|         140|         232|\n",
      "|2022-01-19 17:04:47|2022-01-19 17:20:11|         238|          42|\n",
      "|2022-01-29 02:51:56|2022-01-29 03:04:24|         168|          42|\n",
      "|2022-01-14 15:50:15|2022-01-14 16:02:49|          62|         188|\n",
      "+-------------------+-------------------+------------+------------+\n",
      "only showing top 20 rows\n",
      "\n"
     ]
    },
    {
     "name": "stderr",
     "output_type": "stream",
     "text": [
      "                                                                                \r"
     ]
    }
   ],
   "source": [
    "#eager (action)\n",
    "sel.show()"
   ]
  },
  {
   "cell_type": "code",
   "execution_count": null,
   "id": "605315cf",
   "metadata": {},
   "outputs": [],
   "source": []
  }
 ],
 "metadata": {
  "kernelspec": {
   "display_name": "Python 3 (ipykernel)",
   "language": "python",
   "name": "python3"
  },
  "language_info": {
   "codemirror_mode": {
    "name": "ipython",
    "version": 3
   },
   "file_extension": ".py",
   "mimetype": "text/x-python",
   "name": "python",
   "nbconvert_exporter": "python",
   "pygments_lexer": "ipython3",
   "version": "3.10.10"
  }
 },
 "nbformat": 4,
 "nbformat_minor": 5
}
